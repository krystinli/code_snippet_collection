{
 "cells": [
  {
   "cell_type": "markdown",
   "metadata": {},
   "source": [
    "# Class\n",
    "Python is an object oriented programming language. Almost everything in Python is an object with its properties and methods.  <br />\n",
    "A Class is like an object constructor, or a \"blueprint\" for creating objects. ->[classes](https://docs.python.org/3/tutorial/classes.html#a-first-look-at-classes)\n",
    "- [01_Creation](https://github.com/krystinli/code_snippet_collection/blob/master/class_objects.md#01_creation) - an example of class\n",
    "- [02__init__()]()\n",
    "- [03_solve]()"
   ]
  },
  {
   "cell_type": "code",
   "execution_count": 3,
   "metadata": {},
   "outputs": [
    {
     "name": "stdout",
     "output_type": "stream",
     "text": [
      "5\n"
     ]
    }
   ],
   "source": [
    "# Create a class named MyClass, with a property named x:\n",
    "class MyClass:\n",
    "  x = 5\n",
    "\n",
    "# Create an object named p1, and print the value of x:\n",
    "p1 = MyClass()\n",
    "print(p1.x) "
   ]
  },
  {
   "cell_type": "markdown",
   "metadata": {},
   "source": [
    "### 01_init__()\n",
    "All classes have a built-in function called `__init__()` and is always executed when the class is being initiated. <br />\n",
    "Use the `__init__()` function to assign values to object properties, or other operations that are necessary to do when the object is being created:"
   ]
  },
  {
   "cell_type": "code",
   "execution_count": 11,
   "metadata": {},
   "outputs": [
    {
     "name": "stdout",
     "output_type": "stream",
     "text": [
      "hello, ButterFly\n"
     ]
    }
   ],
   "source": [
    "class Person:\n",
    "    def __init__(self, firstname, lastname, age):\n",
    "        self.firstname = firstname\n",
    "        self.lastname = lastname\n",
    "        self.age = age\n",
    "   \n",
    "    def greetings(self):\n",
    "        print(\"hello, \" + self.firstname + self.lastname)\n",
    "\n",
    "p1 = Person(\"Butter\", \"Fly\", 2)\n",
    "p1.greetings()"
   ]
  },
  {
   "cell_type": "markdown",
   "metadata": {},
   "source": [
    "Almost every obj in Python has attached functions, known as `methods` that have access to the obj's internal content. <br />\n",
    "You can call using `obj.method(x,y,z`"
   ]
  },
  {
   "cell_type": "markdown",
   "metadata": {},
   "source": [
    "### 02_solve\n",
    "- [find-the-torsional-angle](https://www.hackerrank.com/challenges/class-2-find-the-torsional-angle/problem)"
   ]
  }
 ],
 "metadata": {
  "kernelspec": {
   "display_name": "h1b",
   "language": "python",
   "name": "h1b"
  },
  "language_info": {
   "codemirror_mode": {
    "name": "ipython",
    "version": 3
   },
   "file_extension": ".py",
   "mimetype": "text/x-python",
   "name": "python",
   "nbconvert_exporter": "python",
   "pygments_lexer": "ipython3",
   "version": "3.7.4"
  }
 },
 "nbformat": 4,
 "nbformat_minor": 4
}
