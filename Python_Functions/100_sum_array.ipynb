{
 "cells": [
  {
   "cell_type": "markdown",
   "metadata": {},
   "source": [
    "### Running Sum of 1d Array [[problem]](https://leetcode.com/problems/running-sum-of-1d-array/)\n",
    "- Given an array nums. We define a running sum of an array as runningSum[i] = sum(nums[0]…nums[i])\n",
    "- Return the running sum of nums"
   ]
  },
  {
   "cell_type": "code",
   "execution_count": 2,
   "metadata": {},
   "outputs": [],
   "source": [
    "from typing import List"
   ]
  },
  {
   "cell_type": "markdown",
   "metadata": {},
   "source": [
    "### 00_First_Attemp"
   ]
  },
  {
   "cell_type": "code",
   "execution_count": 24,
   "metadata": {},
   "outputs": [
    {
     "data": {
      "text/plain": [
       "[1, 3, 6, 10]"
      ]
     },
     "execution_count": 24,
     "metadata": {},
     "output_type": "execute_result"
    }
   ],
   "source": [
    "class Solution:\n",
    "    def runningSum(self, nums: List[int]) -> List[int]:\n",
    "        output_lst = []\n",
    "        for i in range(len(nums)+1):\n",
    "            if i == 0:\n",
    "                pass\n",
    "            else:\n",
    "                temp_sum = 0\n",
    "                for j in range(i):\n",
    "                    temp_sum = temp_sum + nums[j]\n",
    "                output_lst.append(temp_sum)\n",
    "        return output_lst\n",
    "                        \n",
    "# initiate solution: \n",
    "Solution = Solution()        \n",
    "Solution.runningSum([1,2,3,4])"
   ]
  },
  {
   "cell_type": "code",
   "execution_count": 25,
   "metadata": {},
   "outputs": [
    {
     "data": {
      "text/plain": [
       "[1, 2, 3, 4, 5]"
      ]
     },
     "execution_count": 25,
     "metadata": {},
     "output_type": "execute_result"
    }
   ],
   "source": [
    "# test examples:\n",
    "input_num = [1,1,1,1,1]\n",
    "Solution.runningSum(input_num)"
   ]
  },
  {
   "cell_type": "code",
   "execution_count": 26,
   "metadata": {},
   "outputs": [
    {
     "data": {
      "text/plain": [
       "[1, 2, 3, 4, 5]"
      ]
     },
     "execution_count": 26,
     "metadata": {},
     "output_type": "execute_result"
    }
   ],
   "source": [
    "# test edge cases:\n",
    "input_num = [1,1,1,1,1]\n",
    "Solution.runningSum(input_num)"
   ]
  },
  {
   "cell_type": "markdown",
   "metadata": {},
   "source": [
    "Submission: accepted but not optimal!\n",
    "- 08/23/2020 12:39\t\n",
    "- Accepted\t\n",
    "- 124 ms\t\n",
    "- 14.1 MB\t"
   ]
  },
  {
   "cell_type": "markdown",
   "metadata": {},
   "source": [
    "### 01_Second_Attemp"
   ]
  },
  {
   "cell_type": "code",
   "execution_count": 17,
   "metadata": {},
   "outputs": [
    {
     "data": {
      "text/plain": [
       "[1, 3, 6, 10]"
      ]
     },
     "execution_count": 17,
     "metadata": {},
     "output_type": "execute_result"
    }
   ],
   "source": [
    "class Solution:\n",
    "    def runningSum(self, nums: List[int]) -> List[int]:\n",
    "        output_lst = []\n",
    "        current_lst = []\n",
    "        \n",
    "        for i in range(len(nums)):\n",
    "            current_lst.append(nums[i])\n",
    "            output_lst.append(sum(current_lst))\n",
    "        return output_lst\n",
    "\n",
    "s = Solution()\n",
    "s.runningSum([1,2,3,4])"
   ]
  },
  {
   "cell_type": "code",
   "execution_count": 18,
   "metadata": {},
   "outputs": [
    {
     "data": {
      "text/plain": [
       "[1, 2, 3, 4, 5]"
      ]
     },
     "execution_count": 18,
     "metadata": {},
     "output_type": "execute_result"
    }
   ],
   "source": [
    "# test examples:\n",
    "input_num = [1,1,1,1,1]\n",
    "s.runningSum(input_num)"
   ]
  },
  {
   "cell_type": "markdown",
   "metadata": {},
   "source": [
    "- Runtime: 44 ms, faster than 60.87% of Python3 online submissions for Running Sum of 1d Array.\n",
    "- Memory Usage: 14.2 MB, less than 13.07% of Python3 online submissions for Running Sum of 1d Array."
   ]
  }
 ],
 "metadata": {
  "kernelspec": {
   "display_name": "h1b",
   "language": "python",
   "name": "h1b"
  },
  "language_info": {
   "codemirror_mode": {
    "name": "ipython",
    "version": 3
   },
   "file_extension": ".py",
   "mimetype": "text/x-python",
   "name": "python",
   "nbconvert_exporter": "python",
   "pygments_lexer": "ipython3",
   "version": "3.7.4"
  }
 },
 "nbformat": 4,
 "nbformat_minor": 4
}
