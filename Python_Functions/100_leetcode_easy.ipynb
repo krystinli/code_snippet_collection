{
 "cells": [
  {
   "cell_type": "code",
   "execution_count": 114,
   "metadata": {},
   "outputs": [],
   "source": [
    "from typing import List\n",
    "import math "
   ]
  },
  {
   "cell_type": "code",
   "execution_count": null,
   "metadata": {},
   "outputs": [],
   "source": []
  },
  {
   "cell_type": "markdown",
   "metadata": {},
   "source": [
    "## 1486. XOR Operation in an Array\n",
    "Given an integer n and an integer start. Define an array nums where nums[i] = start + 2*i (0-indexed) and n == nums.length.\n",
    "Return the bitwise XOR of all elements of nums."
   ]
  },
  {
   "cell_type": "code",
   "execution_count": null,
   "metadata": {},
   "outputs": [],
   "source": []
  },
  {
   "cell_type": "markdown",
   "metadata": {},
   "source": [
    "## 1313. Decompress Run-Length Encoded List\n",
    "We are given a list nums of integers representing a list compressed with run-length encoding.\n",
    "\n",
    "Consider each adjacent pair of elements [freq, val] = [nums[2*i], nums[2*i+1]] (with i >= 0).  For each such pair, there are freq elements with value val concatenated in a sublist. Concatenate all the sublists from left to right to generate the decompressed list.\n",
    "\n",
    "Return the decompressed list."
   ]
  },
  {
   "cell_type": "code",
   "execution_count": 125,
   "metadata": {},
   "outputs": [
    {
     "data": {
      "text/plain": [
       "[2, 4, 4, 4]"
      ]
     },
     "execution_count": 125,
     "metadata": {},
     "output_type": "execute_result"
    }
   ],
   "source": [
    "class Solution:\n",
    "    def decompressRLElist(self, nums: List[int]) -> List[int]:\n",
    "        output_lst = []\n",
    "        while(len(nums)>0):\n",
    "            new_lst = [nums[1] for i in range(nums[0])]\n",
    "            output_lst = output_lst + new_lst\n",
    "            nums.pop(0)\n",
    "            nums.pop(0)\n",
    "        return output_lst\n",
    "    \n",
    "soln = Solution()     \n",
    "soln.decompressRLElist(nums = [1,2,3,4])"
   ]
  },
  {
   "cell_type": "markdown",
   "metadata": {},
   "source": [
    "- Runtime: 64 ms, faster than 93.20% of Python3 online submissions for Decompress Run-Length Encoded List.\n",
    "- Memory Usage: 14.2 MB, less than 11.26% of Python3 online submissions for Decompress Run-Length Encoded List."
   ]
  },
  {
   "cell_type": "markdown",
   "metadata": {},
   "source": [
    "## 1281. Subtract the Product and Sum of Digits of an Integer\n",
    "Given an integer number n, return the difference between the product of its digits and the sum of its digits."
   ]
  },
  {
   "cell_type": "code",
   "execution_count": null,
   "metadata": {},
   "outputs": [],
   "source": [
    "# requires py 3.8 to run math.prod\n",
    "class Solution:\n",
    "    def subtractProductAndSum(self, n: int) -> int:\n",
    "        return math.prod([int(x) for x in str(n)]) - sum([int(x) for x in str(n)])"
   ]
  },
  {
   "cell_type": "markdown",
   "metadata": {},
   "source": [
    "- Runtime: 28 ms, faster than 83.67% of Python3 online submissions for Subtract the Product and Sum of Digits of an Integer.\n",
    "- Memory Usage: 14 MB, less than 16.68% of Python3 online submissions for Subtract the Product and Sum of Digits of an Integer."
   ]
  },
  {
   "cell_type": "markdown",
   "metadata": {},
   "source": [
    "## 1365. How Many Numbers Are Smaller Than the Current Number [[problem]](https://leetcode.com/problems/how-many-numbers-are-smaller-than-the-current-number/)"
   ]
  },
  {
   "cell_type": "code",
   "execution_count": 88,
   "metadata": {},
   "outputs": [
    {
     "data": {
      "text/plain": [
       "[2, 1, 0, 3]"
      ]
     },
     "execution_count": 88,
     "metadata": {},
     "output_type": "execute_result"
    }
   ],
   "source": [
    "class Solution:\n",
    "    def smallerNumbersThanCurrent(self, nums: List[int]) -> List[int]:\n",
    "        output_lst = []\n",
    "        for i in range(len(nums)):\n",
    "            count = sum(map(lambda x: x<nums[i], nums))\n",
    "            output_lst.append(count)\n",
    "        return output_lst\n",
    "        \n",
    "solution = Solution()\n",
    "solution.smallerNumbersThanCurrent(nums = [6,5,4,8])"
   ]
  },
  {
   "cell_type": "markdown",
   "metadata": {},
   "source": [
    "- Runtime: 644 ms, faster than 9.08% of Python3 online submissions for How Many Numbers Are Smaller Than the Current Number.\n",
    "- Memory Usage: 14 MB, less than 16.73% of Python3 online submissions for How Many Numbers Are Smaller Than the Current Number."
   ]
  },
  {
   "cell_type": "code",
   "execution_count": 95,
   "metadata": {},
   "outputs": [
    {
     "data": {
      "text/plain": [
       "[2, 1, 0, 3]"
      ]
     },
     "execution_count": 95,
     "metadata": {},
     "output_type": "execute_result"
    }
   ],
   "source": [
    "class Solution:\n",
    "    def smallerNumbersThanCurrent(self, nums: List[int]) -> List[int]:\n",
    "        output_lst = []\n",
    "        for i in nums:\n",
    "            count = sum(map(lambda x: x < i, nums))\n",
    "            output_lst.append(count)\n",
    "        return output_lst\n",
    "               \n",
    "solution = Solution()\n",
    "solution.smallerNumbersThanCurrent(nums = [6,5,4,8])"
   ]
  },
  {
   "cell_type": "code",
   "execution_count": 98,
   "metadata": {},
   "outputs": [
    {
     "data": {
      "text/plain": [
       "[2, 1, 0, 3]"
      ]
     },
     "execution_count": 98,
     "metadata": {},
     "output_type": "execute_result"
    }
   ],
   "source": [
    "class Solution:\n",
    "    def smallerNumbersThanCurrent(self, nums: List[int]) -> List[int]:\n",
    "        seq = sorted(nums)\n",
    "        index = [seq.index(v) for v in nums]\n",
    "        return index\n",
    "               \n",
    "solution = Solution()\n",
    "solution.smallerNumbersThanCurrent(nums = [6,5,4,8])"
   ]
  },
  {
   "cell_type": "markdown",
   "metadata": {},
   "source": [
    "- Runtime: 80 ms, faster than 70.60% of Python3 online submissions for How Many Numbers Are Smaller Than the Current Number.\n",
    "- Memory Usage: 13.8 MB, less than 74.06% of Python3 online submissions for How Many Numbers Are Smaller Than the Current Number."
   ]
  },
  {
   "cell_type": "markdown",
   "metadata": {},
   "source": [
    "## 1528. Shuffle String [[problem]](https://leetcode.com/problems/shuffle-string/)\n",
    "Given a string s and an integer array indices of the same length. The string s will be shuffled such that the character at the ith position moves to indices[i] in the shuffled string."
   ]
  },
  {
   "cell_type": "code",
   "execution_count": 68,
   "metadata": {},
   "outputs": [
    {
     "data": {
      "text/plain": [
       "'leetcode'"
      ]
     },
     "execution_count": 68,
     "metadata": {},
     "output_type": "execute_result"
    }
   ],
   "source": [
    "class Solution:\n",
    "    def restoreString(self, s: str, indices: List[int]) -> str:\n",
    "        output_str = \"\"\n",
    "        dict_ = dict(zip(indices, s))\n",
    "        \n",
    "        for i in range(len(indices)):\n",
    "            output_str = output_str + dict_[i]\n",
    "        return output_str\n",
    "    \n",
    "solution = Solution()\n",
    "solution.restoreString(s = \"codeleet\", indices = [4,5,6,7,0,2,1,3])"
   ]
  },
  {
   "cell_type": "code",
   "execution_count": 82,
   "metadata": {},
   "outputs": [
    {
     "data": {
      "text/plain": [
       "'leetcode'"
      ]
     },
     "execution_count": 82,
     "metadata": {},
     "output_type": "execute_result"
    }
   ],
   "source": [
    "class Solution:\n",
    "    def restoreString(self, s: str, indices: List[int]) -> str:\n",
    "        lst =sorted(list(zip(indices, s)), key=lambda x: x[0])\n",
    "        return ''.join([x[1] for x in lst])\n",
    "    \n",
    "solution = Solution()\n",
    "solution.restoreString(s = \"codeleet\", indices = [4,5,6,7,0,2,1,3])"
   ]
  },
  {
   "cell_type": "markdown",
   "metadata": {},
   "source": [
    "Runtime: 104 ms, faster than 10.53% of Python3 online submissions for Shuffle String.\n",
    "Memory Usage: 13.8 MB, less than 65.86% of Python3 online submissions for Shuffle String."
   ]
  },
  {
   "cell_type": "markdown",
   "metadata": {},
   "source": [
    "## 1342. Number of Steps to Reduce a Number to Zero [[problem]](https://leetcode.com/problems/number-of-steps-to-reduce-a-number-to-zero/)\n",
    "Given a non-negative integer num, return the number of steps to reduce it to zero. If the current number is even, you have to divide it by 2, otherwise, you have to subtract 1 from it."
   ]
  },
  {
   "cell_type": "code",
   "execution_count": 52,
   "metadata": {},
   "outputs": [
    {
     "data": {
      "text/plain": [
       "12"
      ]
     },
     "execution_count": 52,
     "metadata": {},
     "output_type": "execute_result"
    }
   ],
   "source": [
    "class Solution:\n",
    "    def numberOfSteps (self, num: int) -> int:\n",
    "        steps = 0\n",
    "        while num > 0:\n",
    "            steps = steps + 1\n",
    "            if num%2 == 0:\n",
    "                num = num / 2\n",
    "            else:\n",
    "                num = num - 1\n",
    "        return steps\n",
    "\n",
    "solution = Solution()\n",
    "solution.numberOfSteps(num = 123)"
   ]
  },
  {
   "cell_type": "markdown",
   "metadata": {},
   "source": [
    "- Runtime: 28 ms, faster than 83.98% of Python3 online submissions for Number of Steps to Reduce a Number to Zero.\n",
    "- Memory Usage: 13.7 MB, less than 84.75% of Python3 online submissions for Number of Steps to Reduce a Number to Zero."
   ]
  },
  {
   "cell_type": "markdown",
   "metadata": {},
   "source": [
    "## 771. Jewels and Stones [[problem]](https://leetcode.com/problems/jewels-and-stones/)\n",
    "You're given strings J representing the types of stones that are jewels, and S representing the stones you have.  Each character in S is a type of stone you have.  You want to know how many of the stones you have are also jewels.\n",
    "\n",
    "The letters in J are guaranteed distinct, and all characters in J and S are letters. Letters are case sensitive, so \"a\" is considered a different type of stone from \"A\"."
   ]
  },
  {
   "cell_type": "code",
   "execution_count": 27,
   "metadata": {},
   "outputs": [
    {
     "data": {
      "text/plain": [
       "0"
      ]
     },
     "execution_count": 27,
     "metadata": {},
     "output_type": "execute_result"
    }
   ],
   "source": [
    "class Solution:\n",
    "    def numJewelsInStones(self, J: str, S: str) -> int:\n",
    "        count_all = 0\n",
    "        for i in J:\n",
    "            count_all = count_all + S.count(i)\n",
    "        return count_all\n",
    "\n",
    "solution = Solution()\n",
    "solution.numJewelsInStones(J = \"z\", S = \"ZZ\")"
   ]
  },
  {
   "cell_type": "markdown",
   "metadata": {},
   "source": [
    "- Runtime: 44 ms, faster than 28.21% of Python3 online submissions for Jewels and Stones.\n",
    "- Memory Usage: 13.8 MB, less than 78.44% of Python3 online submissions for Jewels and Stones."
   ]
  },
  {
   "cell_type": "markdown",
   "metadata": {},
   "source": [
    "## 1108. Defanging an IP Address [[problem]](https://leetcode.com/problems/defanging-an-ip-address/)\n",
    "- Given a valid (IPv4) IP address, return a defanged version of that IP address.\n",
    "- A defanged IP address replaces every period \".\" with \"[.]\"."
   ]
  },
  {
   "cell_type": "code",
   "execution_count": 21,
   "metadata": {},
   "outputs": [
    {
     "data": {
      "text/plain": [
       "'255[.]100[.]50[.]0'"
      ]
     },
     "execution_count": 21,
     "metadata": {},
     "output_type": "execute_result"
    }
   ],
   "source": [
    "# first attemp\n",
    "class Solution:\n",
    "    def defangIPaddr(self, address: str) -> str:\n",
    "        new_address = \"\"\n",
    "        for i in range(len(address)):\n",
    "            if address[i] == \".\":\n",
    "                new_address = new_address + \"[.]\"\n",
    "            else:\n",
    "                new_address = new_address + address[i]\n",
    "        return new_address\n",
    "    \n",
    "solution = Solution()    \n",
    "solution.defangIPaddr(address = \"255.100.50.0\")"
   ]
  },
  {
   "cell_type": "code",
   "execution_count": 23,
   "metadata": {},
   "outputs": [
    {
     "data": {
      "text/plain": [
       "'255[.]100[.]50[.]0'"
      ]
     },
     "execution_count": 23,
     "metadata": {},
     "output_type": "execute_result"
    }
   ],
   "source": [
    "# second attemp\n",
    "class Solution:\n",
    "    def defangIPaddr(self, address: str) -> str:\n",
    "        return address.replace(\".\", \"[.]\")\n",
    "    \n",
    "solution = Solution()    \n",
    "solution.defangIPaddr(address = \"255.100.50.0\")"
   ]
  },
  {
   "cell_type": "markdown",
   "metadata": {},
   "source": [
    "- Runtime: 24 ms, faster than 94.59% of Python3 online submissions for Defanging an IP Address.\n",
    "- Memory Usage: 13.8 MB, less than 58.69% of Python3 online submissions for Defanging an IP Address."
   ]
  },
  {
   "cell_type": "markdown",
   "metadata": {},
   "source": [
    "## 1512. Number of Good Pairs [[problem]](https://leetcode.com/problems/number-of-good-pairs/)\n",
    "- Given an array of integers nums. A pair (i,j) is called good if nums[i] == nums[j] and i < j.\n",
    "- Return the number of good pairs."
   ]
  },
  {
   "cell_type": "code",
   "execution_count": 16,
   "metadata": {},
   "outputs": [
    {
     "data": {
      "text/plain": [
       "6"
      ]
     },
     "execution_count": 16,
     "metadata": {},
     "output_type": "execute_result"
    }
   ],
   "source": [
    "class Solution:\n",
    "    def numIdenticalPairs(self, nums: List[int]) -> int:\n",
    "        counter = 0\n",
    "        current_lst = nums.copy()\n",
    "        for i in range(len(nums)):\n",
    "            current_lst.pop(0)\n",
    "            counter = counter + current_lst.count(nums[i])\n",
    "        return counter\n",
    "            \n",
    "solution = Solution()\n",
    "solution.numIdenticalPairs(nums = [1,1,1,1])"
   ]
  },
  {
   "cell_type": "markdown",
   "metadata": {},
   "source": [
    "- Runtime: 40 ms, faster than 51.65% of Python3 online submissions for Number of Good Pairs.\n",
    "- Memory Usage: 13.7 MB, less than 81.22% of Python3 online submissions for Number of Good Pairs."
   ]
  },
  {
   "cell_type": "markdown",
   "metadata": {},
   "source": [
    "## 1470. Shuffle the Array [[problem]](https://leetcode.com/problems/shuffle-the-array/)\n",
    "- Given the array nums consisting of 2n elements in the form [x1,x2,...,xn,y1,y2,...,yn].\n",
    "- Return the array in the form [x1,y1,x2,y2,...,xn,yn]."
   ]
  },
  {
   "cell_type": "code",
   "execution_count": 9,
   "metadata": {},
   "outputs": [
    {
     "data": {
      "text/plain": [
       "[1, 2, 1, 2]"
      ]
     },
     "execution_count": 9,
     "metadata": {},
     "output_type": "execute_result"
    }
   ],
   "source": [
    "class Solution:\n",
    "    def shuffle(self, nums: List[int], n: int) -> List[int]:\n",
    "        output_lst = []\n",
    "        for i in range(n):\n",
    "            output_lst.append(nums[i])\n",
    "            output_lst.append(nums[i+n])            \n",
    "        return output_lst\n",
    "\n",
    "solution = Solution()\n",
    "solution.shuffle(nums = [1,1,2,2], n = 2)"
   ]
  },
  {
   "cell_type": "markdown",
   "metadata": {},
   "source": [
    "- Runtime: 64 ms, faster than 69.81% of Python3 online submissions for Shuffle the Array.\n",
    "- Memory Usage: 14 MB, less than 32.81% of Python3 online submissions for Shuffle the Array."
   ]
  },
  {
   "cell_type": "markdown",
   "metadata": {},
   "source": [
    "## 1480. Running Sum of 1d Array [[problem]](https://leetcode.com/problems/running-sum-of-1d-array/)\n",
    "- Given an array nums. We define a running sum of an array as runningSum[i] = sum(nums[0]…nums[i])\n",
    "- Return the running sum of nums"
   ]
  },
  {
   "cell_type": "code",
   "execution_count": 24,
   "metadata": {},
   "outputs": [
    {
     "data": {
      "text/plain": [
       "[1, 3, 6, 10]"
      ]
     },
     "execution_count": 24,
     "metadata": {},
     "output_type": "execute_result"
    }
   ],
   "source": [
    "# First_Attemp\n",
    "class Solution:\n",
    "    def runningSum(self, nums: List[int]) -> List[int]:\n",
    "        output_lst = []\n",
    "        for i in range(len(nums)+1):\n",
    "            if i == 0:\n",
    "                pass\n",
    "            else:\n",
    "                temp_sum = 0\n",
    "                for j in range(i):\n",
    "                    temp_sum = temp_sum + nums[j]\n",
    "                output_lst.append(temp_sum)\n",
    "        return output_lst\n",
    "                        \n",
    "# initiate solution: \n",
    "Solution = Solution()        \n",
    "Solution.runningSum([1,2,3,4])"
   ]
  },
  {
   "cell_type": "code",
   "execution_count": 17,
   "metadata": {},
   "outputs": [
    {
     "data": {
      "text/plain": [
       "[1, 3, 6, 10]"
      ]
     },
     "execution_count": 17,
     "metadata": {},
     "output_type": "execute_result"
    }
   ],
   "source": [
    "# Second_Attemp\n",
    "class Solution:\n",
    "    def runningSum(self, nums: List[int]) -> List[int]:\n",
    "        output_lst = []\n",
    "        current_lst = []\n",
    "        \n",
    "        for i in range(len(nums)):\n",
    "            current_lst.append(nums[i])\n",
    "            output_lst.append(sum(current_lst))\n",
    "        return output_lst\n",
    "\n",
    "s = Solution()\n",
    "s.runningSum([1,2,3,4])"
   ]
  },
  {
   "cell_type": "code",
   "execution_count": 18,
   "metadata": {},
   "outputs": [
    {
     "data": {
      "text/plain": [
       "[1, 2, 3, 4, 5]"
      ]
     },
     "execution_count": 18,
     "metadata": {},
     "output_type": "execute_result"
    }
   ],
   "source": [
    "# test examples:\n",
    "input_num = [1,1,1,1,1]\n",
    "s.runningSum(input_num)"
   ]
  },
  {
   "cell_type": "markdown",
   "metadata": {},
   "source": [
    "- Runtime: 44 ms, faster than 60.87% of Python3 online submissions for Running Sum of 1d Array.\n",
    "- Memory Usage: 14.2 MB, less than 13.07% of Python3 online submissions for Running Sum of 1d Array."
   ]
  },
  {
   "cell_type": "markdown",
   "metadata": {},
   "source": [
    "## 1431. Kids With the Greatest Number of Candies [[problem]](https://leetcode.com/problems/kids-with-the-greatest-number-of-candies/)\n",
    "\n",
    "Given the array candies and the integer extraCandies, where candies[i] represents the number of candies that the ith kid has.\n",
    "\n",
    "For each kid check if there is a way to distribute extraCandies among the kids such that he or she can have the greatest number of candies among them. Notice that multiple kids can have the greatest number of candies.\n",
    "\n",
    "Example 1:\n",
    "- Input: candies = [2,3,5,1,3], extraCandies = 3\n",
    "- Output: [true,true,true,false,true] "
   ]
  },
  {
   "cell_type": "code",
   "execution_count": 20,
   "metadata": {},
   "outputs": [
    {
     "data": {
      "text/plain": [
       "[True, True, True, False, True]"
      ]
     },
     "execution_count": 20,
     "metadata": {},
     "output_type": "execute_result"
    }
   ],
   "source": [
    "class Solution:\n",
    "    def kidsWithCandies(self, candies: List[int], extraCandies: int) -> List[bool]:\n",
    "        output_lst = []\n",
    "        for i in range(len(candies)):\n",
    "            output_lst.append(candies[i] + extraCandies >= max(candies))\n",
    "        return output_lst \n",
    "\n",
    "s = Solution()\n",
    "s.kidsWithCandies(candies = [2,3,5,1,3], extraCandies = 3)"
   ]
  },
  {
   "cell_type": "markdown",
   "metadata": {},
   "source": [
    "- Runtime: 44 ms, faster than 47.53% of Python3 online submissions for Kids With the Greatest Number of Candies.\n",
    "- Memory Usage: 13.8 MB, less than 73.13% of Python3 online submissions for Kids With the Greatest Number of Candies."
   ]
  }
 ],
 "metadata": {
  "kernelspec": {
   "display_name": "h1b",
   "language": "python",
   "name": "h1b"
  },
  "language_info": {
   "codemirror_mode": {
    "name": "ipython",
    "version": 3
   },
   "file_extension": ".py",
   "mimetype": "text/x-python",
   "name": "python",
   "nbconvert_exporter": "python",
   "pygments_lexer": "ipython3",
   "version": "3.7.4"
  }
 },
 "nbformat": 4,
 "nbformat_minor": 4
}
